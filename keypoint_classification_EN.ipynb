
import csv

import numpy as np
import tensorflow as tf
from sklearn.model_selection import train_test_split

RANDOM_SEED = 42
Specify each path
dataset = 'model/keypoint_classifier/keypoint.csv'
model_save_path = 'model/keypoint_classifier/keypoint_classifier.hdf5'
tflite_save_path = 'model/keypoint_classifier/keypoint_classifier.tflite'
Set number of classes
NUM_CLASSES = 4
Dataset reading
X_dataset = np.loadtxt(dataset, delimiter=',', dtype='float32', usecols=list(range(1, (21 * 2) + 1)))
y_dataset = np.loadtxt(dataset, delimiter=',', dtype='int32', usecols=(0))
X_train, X_test, y_train, y_test = train_test_split(X_dataset, y_dataset, train_size=0.75, random_state=RANDOM_SEED)
Model building
model = tf.keras.models.Sequential([
    tf.keras.layers.Input((21 * 2, )),
    tf.keras.layers.Dropout(0.2),
    tf.keras.layers.Dense(20, activation='relu'),
    tf.keras.layers.Dropout(0.4),
    tf.keras.layers.Dense(10, activation='relu'),
    tf.keras.layers.Dense(NUM_CLASSES, activation='softmax')
])
model.summary()  # tf.keras.utils.plot_model(model, show_shapes=True)
Model: "sequential"
_________________________________________________________________
Layer (type)                 Output Shape              Param #   
=================================================================
dropout (Dropout)            (None, 42)                0         
_________________________________________________________________
dense (Dense)                (None, 20)                860       
_________________________________________________________________
dropout_1 (Dropout)          (None, 20)                0         
_________________________________________________________________
dense_1 (Dense)              (None, 10)                210       
_________________________________________________________________
dense_2 (Dense)              (None, 4)                 44        
=================================================================
Total params: 1,114
Trainable params: 1,114
Non-trainable params: 0
_________________________________________________________________
# Model checkpoint callback
cp_callback = tf.keras.callbacks.ModelCheckpoint(
    model_save_path, verbose=1, save_weights_only=False)
# Callback for early stopping
es_callback = tf.keras.callbacks.EarlyStopping(patience=20, verbose=1)
# Model compilation
model.compile(
    optimizer='adam',
    loss='sparse_categorical_crossentropy',
    metrics=['accuracy']
)
Model training
model.fit(
    X_train,
    y_train,
    epochs=1000,
    batch_size=128,
    validation_data=(X_test, y_test),
    callbacks=[cp_callback, es_callback]
)
Epoch 1/1000
29/29 [==============================] - 2s 15ms/step - loss: 1.3853 - accuracy: 0.3360 - val_loss: 1.2779 - val_accuracy: 0.4244

Epoch 00001: saving model to model/keypoint_classifier/keypoint_classifier.hdf5
Epoch 2/1000
29/29 [==============================] - 0s 4ms/step - loss: 1.2943 - accuracy: 0.3780 - val_loss: 1.2151 - val_accuracy: 0.4703

Epoch 00002: saving model to model/keypoint_classifier/keypoint_classifier.hdf5
Epoch 3/1000
29/29 [==============================] - 0s 4ms/step - loss: 1.2524 - accuracy: 0.3749 - val_loss: 1.1472 - val_accuracy: 0.5572

Epoch 00003: saving model to model/keypoint_classifier/keypoint_classifier.hdf5
Epoch 4/1000
29/29 [==============================] - 0s 4ms/step - loss: 1.1989 - accuracy: 0.4251 - val_loss: 1.0682 - val_accuracy: 0.6374

Epoch 00004: saving model to model/keypoint_classifier/keypoint_classifier.hdf5
Epoch 5/1000
29/29 [==============================] - 0s 4ms/step - loss: 1.1363 - accuracy: 0.4733 - val_loss: 1.0027 - val_accuracy: 0.6608

Epoch 00005: saving model to model/keypoint_classifier/keypoint_classifier.hdf5
Epoch 6/1000
29/29 [==============================] - 0s 4ms/step - loss: 1.0938 - accuracy: 0.5107 - val_loss: 0.9416 - val_accuracy: 0.6717

Epoch 00006: saving model to model/keypoint_classifier/keypoint_classifier.hdf5
Epoch 7/1000
29/29 [==============================] - 0s 4ms/step - loss: 1.0426 - accuracy: 0.5351 - val_loss: 0.8775 - val_accuracy: 0.7043

Epoch 00007: saving model to model/keypoint_classifier/keypoint_classifier.hdf5
Epoch 8/1000
29/29 [==============================] - 0s 4ms/step - loss: 1.0024 - accuracy: 0.5597 - val_loss: 0.8238 - val_accuracy: 0.7243

Epoch 00008: saving model to model/keypoint_classifier/keypoint_classifier.hdf5
Epoch 9/1000
29/29 [==============================] - 0s 4ms/step - loss: 0.9845 - accuracy: 0.5475 - val_loss: 0.7726 - val_accuracy: 0.7444

Epoch 00009: saving model to model/keypoint_classifier/keypoint_classifier.hdf5
Epoch 10/1000
29/29 [==============================] - 0s 4ms/step - loss: 0.9527 - accuracy: 0.5661 - val_loss: 0.7256 - val_accuracy: 0.7602

Epoch 00010: saving model to model/keypoint_classifier/keypoint_classifier.hdf5
Epoch 11/1000
29/29 [==============================] - 0s 4ms/step - loss: 0.9066 - accuracy: 0.5915 - val_loss: 0.6922 - val_accuracy: 0.7886

Epoch 00011: saving model to model/keypoint_classifier/keypoint_classifier.hdf5
Epoch 12/1000
29/29 [==============================] - 0s 4ms/step - loss: 0.8825 - accuracy: 0.6094 - val_loss: 0.6512 - val_accuracy: 0.8087

Epoch 00012: saving model to model/keypoint_classifier/keypoint_classifier.hdf5
Epoch 13/1000
29/29 [==============================] - 0s 3ms/step - loss: 0.8901 - accuracy: 0.6124 - val_loss: 0.6228 - val_accuracy: 0.8246

Epoch 00013: saving model to model/keypoint_classifier/keypoint_classifier.hdf5
Epoch 14/1000
29/29 [==============================] - 0s 3ms/step - loss: 0.8616 - accuracy: 0.6238 - val_loss: 0.5969 - val_accuracy: 0.8688

Epoch 00014: saving model to model/keypoint_classifier/keypoint_classifier.hdf5
Epoch 15/1000
29/29 [==============================] - 0s 3ms/step - loss: 0.8060 - accuracy: 0.6412 - val_loss: 0.5634 - val_accuracy: 0.8780

Epoch 00015: saving model to model/keypoint_classifier/keypoint_classifier.hdf5
Epoch 16/1000
29/29 [==============================] - 0s 3ms/step - loss: 0.8036 - accuracy: 0.6573 - val_loss: 0.5445 - val_accuracy: 0.8897

Epoch 00016: saving model to model/keypoint_classifier/keypoint_classifier.hdf5
Epoch 17/1000
29/29 [==============================] - 0s 6ms/step - loss: 0.7658 - accuracy: 0.6752 - val_loss: 0.5247 - val_accuracy: 0.9056

Epoch 00017: saving model to model/keypoint_classifier/keypoint_classifier.hdf5
Epoch 18/1000
29/29 [==============================] - 0s 3ms/step - loss: 0.7816 - accuracy: 0.6566 - val_loss: 0.5061 - val_accuracy: 0.9073

Epoch 00018: saving model to model/keypoint_classifier/keypoint_classifier.hdf5
Epoch 19/1000
29/29 [==============================] - 0s 4ms/step - loss: 0.7564 - accuracy: 0.6842 - val_loss: 0.4910 - val_accuracy: 0.9039

Epoch 00019: saving model to model/keypoint_classifier/keypoint_classifier.hdf5
Epoch 20/1000
29/29 [==============================] - 0s 3ms/step - loss: 0.7531 - accuracy: 0.6800 - val_loss: 0.4742 - val_accuracy: 0.9098

Epoch 00020: saving model to model/keypoint_classifier/keypoint_classifier.hdf5
Epoch 21/1000
29/29 [==============================] - 0s 3ms/step - loss: 0.7271 - accuracy: 0.6952 - val_loss: 0.4619 - val_accuracy: 0.9190

Epoch 00021: saving model to model/keypoint_classifier/keypoint_classifier.hdf5
Epoch 22/1000
29/29 [==============================] - 0s 3ms/step - loss: 0.7392 - accuracy: 0.6969 - val_loss: 0.4552 - val_accuracy: 0.9240

Epoch 00022: saving model to model/keypoint_classifier/keypoint_classifier.hdf5
Epoch 23/1000
29/29 [==============================] - 0s 3ms/step - loss: 0.7169 - accuracy: 0.6980 - val_loss: 0.4407 - val_accuracy: 0.9190

Epoch 00023: saving model to model/keypoint_classifier/keypoint_classifier.hdf5
Epoch 24/1000
29/29 [==============================] - 0s 3ms/step - loss: 0.7228 - accuracy: 0.6844 - val_loss: 0.4299 - val_accuracy: 0.9348

Epoch 00024: saving model to model/keypoint_classifier/keypoint_classifier.hdf5
Epoch 25/1000
29/29 [==============================] - 0s 3ms/step - loss: 0.7076 - accuracy: 0.6995 - val_loss: 0.4208 - val_accuracy: 0.9273

Epoch 00025: saving model to model/keypoint_classifier/keypoint_classifier.hdf5
Epoch 26/1000
29/29 [==============================] - 0s 4ms/step - loss: 0.7026 - accuracy: 0.7094 - val_loss: 0.4089 - val_accuracy: 0.9340

Epoch 00026: saving model to model/keypoint_classifier/keypoint_classifier.hdf5
Epoch 27/1000
29/29 [==============================] - 0s 3ms/step - loss: 0.6647 - accuracy: 0.7284 - val_loss: 0.4033 - val_accuracy: 0.9307

Epoch 00027: saving model to model/keypoint_classifier/keypoint_classifier.hdf5
Epoch 28/1000
29/29 [==============================] - 0s 3ms/step - loss: 0.7012 - accuracy: 0.7009 - val_loss: 0.4048 - val_accuracy: 0.9282

Epoch 00028: saving model to model/keypoint_classifier/keypoint_classifier.hdf5
Epoch 29/1000
29/29 [==============================] - 0s 3ms/step - loss: 0.6833 - accuracy: 0.7196 - val_loss: 0.3877 - val_accuracy: 0.9390

Epoch 00029: saving model to model/keypoint_classifier/keypoint_classifier.hdf5
Epoch 30/1000
29/29 [==============================] - 0s 3ms/step - loss: 0.6934 - accuracy: 0.7080 - val_loss: 0.3753 - val_accuracy: 0.9465

Epoch 00030: saving model to model/keypoint_classifier/keypoint_classifier.hdf5
Epoch 31/1000
29/29 [==============================] - 0s 3ms/step - loss: 0.6482 - accuracy: 0.7330 - val_loss: 0.3744 - val_accuracy: 0.9407

Epoch 00031: saving model to model/keypoint_classifier/keypoint_classifier.hdf5
Epoch 32/1000
29/29 [==============================] - 0s 3ms/step - loss: 0.6765 - accuracy: 0.7150 - val_loss: 0.3752 - val_accuracy: 0.9465

Epoch 00032: saving model to model/keypoint_classifier/keypoint_classifier.hdf5
Epoch 33/1000
29/29 [==============================] - 0s 3ms/step - loss: 0.6690 - accuracy: 0.7229 - val_loss: 0.3627 - val_accuracy: 0.9490

Epoch 00033: saving model to model/keypoint_classifier/keypoint_classifier.hdf5
Epoch 34/1000
29/29 [==============================] - 0s 3ms/step - loss: 0.6609 - accuracy: 0.7177 - val_loss: 0.3601 - val_accuracy: 0.9415

Epoch 00034: saving model to model/keypoint_classifier/keypoint_classifier.hdf5
Epoch 35/1000
29/29 [==============================] - 0s 4ms/step - loss: 0.6472 - accuracy: 0.7369 - val_loss: 0.3538 - val_accuracy: 0.9357

Epoch 00035: saving model to model/keypoint_classifier/keypoint_classifier.hdf5
Epoch 36/1000
29/29 [==============================] - 0s 3ms/step - loss: 0.6448 - accuracy: 0.7398 - val_loss: 0.3439 - val_accuracy: 0.9482

Epoch 00036: saving model to model/keypoint_classifier/keypoint_classifier.hdf5
Epoch 37/1000
29/29 [==============================] - 0s 4ms/step - loss: 0.6417 - accuracy: 0.7341 - val_loss: 0.3454 - val_accuracy: 0.9482

Epoch 00037: saving model to model/keypoint_classifier/keypoint_classifier.hdf5
Epoch 38/1000
29/29 [==============================] - 0s 3ms/step - loss: 0.6605 - accuracy: 0.7270 - val_loss: 0.3479 - val_accuracy: 0.9507

Epoch 00038: saving model to model/keypoint_classifier/keypoint_classifier.hdf5
Epoch 39/1000
29/29 [==============================] - 0s 3ms/step - loss: 0.6306 - accuracy: 0.7349 - val_loss: 0.3439 - val_accuracy: 0.9499

Epoch 00039: saving model to model/keypoint_classifier/keypoint_classifier.hdf5
Epoch 40/1000
29/29 [==============================] - 0s 3ms/step - loss: 0.6719 - accuracy: 0.7174 - val_loss: 0.3491 - val_accuracy: 0.9490

Epoch 00040: saving model to model/keypoint_classifier/keypoint_classifier.hdf5
Epoch 41/1000
29/29 [==============================] - 0s 3ms/step - loss: 0.6213 - accuracy: 0.7391 - val_loss: 0.3326 - val_accuracy: 0.9465

Epoch 00041: saving model to model/keypoint_classifier/keypoint_classifier.hdf5
Epoch 42/1000
29/29 [==============================] - 0s 3ms/step - loss: 0.6397 - accuracy: 0.7397 - val_loss: 0.3294 - val_accuracy: 0.9499

Epoch 00042: saving model to model/keypoint_classifier/keypoint_classifier.hdf5
Epoch 43/1000
29/29 [==============================] - 0s 3ms/step - loss: 0.6255 - accuracy: 0.7534 - val_loss: 0.3269 - val_accuracy: 0.9515

Epoch 00043: saving model to model/keypoint_classifier/keypoint_classifier.hdf5
Epoch 44/1000
29/29 [==============================] - 0s 4ms/step - loss: 0.6403 - accuracy: 0.7363 - val_loss: 0.3300 - val_accuracy: 0.9507

Epoch 00044: saving model to model/keypoint_classifier/keypoint_classifier.hdf5
Epoch 45/1000
29/29 [==============================] - 0s 4ms/step - loss: 0.6105 - accuracy: 0.7541 - val_loss: 0.3156 - val_accuracy: 0.9574

Epoch 00045: saving model to model/keypoint_classifier/keypoint_classifier.hdf5
Epoch 46/1000
29/29 [==============================] - 0s 3ms/step - loss: 0.6065 - accuracy: 0.7611 - val_loss: 0.3083 - val_accuracy: 0.9582

Epoch 00046: saving model to model/keypoint_classifier/keypoint_classifier.hdf5
Epoch 47/1000
29/29 [==============================] - 0s 3ms/step - loss: 0.5970 - accuracy: 0.7595 - val_loss: 0.3147 - val_accuracy: 0.9432

Epoch 00047: saving model to model/keypoint_classifier/keypoint_classifier.hdf5
Epoch 48/1000
29/29 [==============================] - 0s 4ms/step - loss: 0.5949 - accuracy: 0.7490 - val_loss: 0.3119 - val_accuracy: 0.9524

Epoch 00048: saving model to model/keypoint_classifier/keypoint_classifier.hdf5
Epoch 49/1000
29/29 [==============================] - 0s 4ms/step - loss: 0.6136 - accuracy: 0.7447 - val_loss: 0.3049 - val_accuracy: 0.9591

Epoch 00049: saving model to model/keypoint_classifier/keypoint_classifier.hdf5
Epoch 50/1000
29/29 [==============================] - 0s 4ms/step - loss: 0.6021 - accuracy: 0.7487 - val_loss: 0.3109 - val_accuracy: 0.9591

Epoch 00050: saving model to model/keypoint_classifier/keypoint_classifier.hdf5
Epoch 51/1000
29/29 [==============================] - 0s 4ms/step - loss: 0.5964 - accuracy: 0.7519 - val_loss: 0.3073 - val_accuracy: 0.9607

Epoch 00051: saving model to model/keypoint_classifier/keypoint_classifier.hdf5
Epoch 52/1000
29/29 [==============================] - 0s 4ms/step - loss: 0.6201 - accuracy: 0.7530 - val_loss: 0.3005 - val_accuracy: 0.9657

Epoch 00052: saving model to model/keypoint_classifier/keypoint_classifier.hdf5
Epoch 53/1000
29/29 [==============================] - 0s 4ms/step - loss: 0.5830 - accuracy: 0.7675 - val_loss: 0.2952 - val_accuracy: 0.9641

Epoch 00053: saving model to model/keypoint_classifier/keypoint_classifier.hdf5
Epoch 54/1000
29/29 [==============================] - 0s 4ms/step - loss: 0.5810 - accuracy: 0.7717 - val_loss: 0.2938 - val_accuracy: 0.9624

Epoch 00054: saving model to model/keypoint_classifier/keypoint_classifier.hdf5
Epoch 55/1000
29/29 [==============================] - 0s 4ms/step - loss: 0.5772 - accuracy: 0.7629 - val_loss: 0.2909 - val_accuracy: 0.9616

Epoch 00055: saving model to model/keypoint_classifier/keypoint_classifier.hdf5
Epoch 56/1000
29/29 [==============================] - 0s 4ms/step - loss: 0.5697 - accuracy: 0.7671 - val_loss: 0.2858 - val_accuracy: 0.9616

Epoch 00056: saving model to model/keypoint_classifier/keypoint_classifier.hdf5
Epoch 57/1000
29/29 [==============================] - 0s 4ms/step - loss: 0.6045 - accuracy: 0.7662 - val_loss: 0.2897 - val_accuracy: 0.9607

Epoch 00057: saving model to model/keypoint_classifier/keypoint_classifier.hdf5
Epoch 58/1000
29/29 [==============================] - 0s 4ms/step - loss: 0.5758 - accuracy: 0.7605 - val_loss: 0.2866 - val_accuracy: 0.9649

Epoch 00058: saving model to model/keypoint_classifier/keypoint_classifier.hdf5
Epoch 59/1000
29/29 [==============================] - 0s 4ms/step - loss: 0.5680 - accuracy: 0.7674 - val_loss: 0.2823 - val_accuracy: 0.9666

Epoch 00059: saving model to model/keypoint_classifier/keypoint_classifier.hdf5
Epoch 60/1000
29/29 [==============================] - 0s 4ms/step - loss: 0.6012 - accuracy: 0.7609 - val_loss: 0.2797 - val_accuracy: 0.9632

Epoch 00060: saving model to model/keypoint_classifier/keypoint_classifier.hdf5
Epoch 61/1000
29/29 [==============================] - 0s 7ms/step - loss: 0.5754 - accuracy: 0.7716 - val_loss: 0.2738 - val_accuracy: 0.9657

Epoch 00061: saving model to model/keypoint_classifier/keypoint_classifier.hdf5
Epoch 62/1000
29/29 [==============================] - 0s 3ms/step - loss: 0.5867 - accuracy: 0.7662 - val_loss: 0.2681 - val_accuracy: 0.9641

Epoch 00062: saving model to model/keypoint_classifier/keypoint_classifier.hdf5
Epoch 63/1000
29/29 [==============================] - 0s 4ms/step - loss: 0.5659 - accuracy: 0.7775 - val_loss: 0.2679 - val_accuracy: 0.9624

Epoch 00063: saving model to model/keypoint_classifier/keypoint_classifier.hdf5
Epoch 64/1000
29/29 [==============================] - 0s 3ms/step - loss: 0.5809 - accuracy: 0.7579 - val_loss: 0.2676 - val_accuracy: 0.9616

Epoch 00064: saving model to model/keypoint_classifier/keypoint_classifier.hdf5
Epoch 65/1000
29/29 [==============================] - 0s 3ms/step - loss: 0.5411 - accuracy: 0.7946 - val_loss: 0.2597 - val_accuracy: 0.9657

Epoch 00065: saving model to model/keypoint_classifier/keypoint_classifier.hdf5
Epoch 66/1000
29/29 [==============================] - 0s 3ms/step - loss: 0.5708 - accuracy: 0.7580 - val_loss: 0.2605 - val_accuracy: 0.9683

Epoch 00066: saving model to model/keypoint_classifier/keypoint_classifier.hdf5
Epoch 67/1000
29/29 [==============================] - 0s 3ms/step - loss: 0.5758 - accuracy: 0.7743 - val_loss: 0.2610 - val_accuracy: 0.9666

Epoch 00067: saving model to model/keypoint_classifier/keypoint_classifier.hdf5
Epoch 68/1000
29/29 [==============================] - 0s 4ms/step - loss: 0.5817 - accuracy: 0.7755 - val_loss: 0.2627 - val_accuracy: 0.9649

Epoch 00068: saving model to model/keypoint_classifier/keypoint_classifier.hdf5
Epoch 69/1000
29/29 [==============================] - 0s 4ms/step - loss: 0.5433 - accuracy: 0.7961 - val_loss: 0.2506 - val_accuracy: 0.9691

Epoch 00069: saving model to model/keypoint_classifier/keypoint_classifier.hdf5
Epoch 70/1000
29/29 [==============================] - 0s 3ms/step - loss: 0.5277 - accuracy: 0.7969 - val_loss: 0.2515 - val_accuracy: 0.9674

Epoch 00070: saving model to model/keypoint_classifier/keypoint_classifier.hdf5
Epoch 71/1000
29/29 [==============================] - 0s 3ms/step - loss: 0.5326 - accuracy: 0.7916 - val_loss: 0.2523 - val_accuracy: 0.9657

Epoch 00071: saving model to model/keypoint_classifier/keypoint_classifier.hdf5
Epoch 72/1000
29/29 [==============================] - 0s 3ms/step - loss: 0.5366 - accuracy: 0.7858 - val_loss: 0.2503 - val_accuracy: 0.9632

Epoch 00072: saving model to model/keypoint_classifier/keypoint_classifier.hdf5
Epoch 73/1000
29/29 [==============================] - 0s 3ms/step - loss: 0.5365 - accuracy: 0.7923 - val_loss: 0.2454 - val_accuracy: 0.9674

Epoch 00073: saving model to model/keypoint_classifier/keypoint_classifier.hdf5
Epoch 74/1000
29/29 [==============================] - 0s 4ms/step - loss: 0.5308 - accuracy: 0.7907 - val_loss: 0.2477 - val_accuracy: 0.9666

Epoch 00074: saving model to model/keypoint_classifier/keypoint_classifier.hdf5
Epoch 75/1000
29/29 [==============================] - 0s 3ms/step - loss: 0.5484 - accuracy: 0.7893 - val_loss: 0.2423 - val_accuracy: 0.9666

Epoch 00075: saving model to model/keypoint_classifier/keypoint_classifier.hdf5
Epoch 76/1000
29/29 [==============================] - 0s 3ms/step - loss: 0.5486 - accuracy: 0.7919 - val_loss: 0.2460 - val_accuracy: 0.9657

Epoch 00076: saving model to model/keypoint_classifier/keypoint_classifier.hdf5
Epoch 77/1000
29/29 [==============================] - 0s 3ms/step - loss: 0.5641 - accuracy: 0.7737 - val_loss: 0.2504 - val_accuracy: 0.9674

Epoch 00077: saving model to model/keypoint_classifier/keypoint_classifier.hdf5
Epoch 78/1000
29/29 [==============================] - 0s 4ms/step - loss: 0.5293 - accuracy: 0.7988 - val_loss: 0.2358 - val_accuracy: 0.9691

Epoch 00078: saving model to model/keypoint_classifier/keypoint_classifier.hdf5
Epoch 79/1000
29/29 [==============================] - 0s 3ms/step - loss: 0.5279 - accuracy: 0.8004 - val_loss: 0.2314 - val_accuracy: 0.9699

Epoch 00079: saving model to model/keypoint_classifier/keypoint_classifier.hdf5
Epoch 80/1000
29/29 [==============================] - 0s 4ms/step - loss: 0.5228 - accuracy: 0.7923 - val_loss: 0.2357 - val_accuracy: 0.9708

Epoch 00080: saving model to model/keypoint_classifier/keypoint_classifier.hdf5
Epoch 81/1000
29/29 [==============================] - 0s 3ms/step - loss: 0.5105 - accuracy: 0.8039 - val_loss: 0.2433 - val_accuracy: 0.9699

Epoch 00081: saving model to model/keypoint_classifier/keypoint_classifier.hdf5
Epoch 82/1000
29/29 [==============================] - 0s 4ms/step - loss: 0.5105 - accuracy: 0.7994 - val_loss: 0.2415 - val_accuracy: 0.9699

Epoch 00082: saving model to model/keypoint_classifier/keypoint_classifier.hdf5
Epoch 83/1000
29/29 [==============================] - 0s 3ms/step - loss: 0.5323 - accuracy: 0.7907 - val_loss: 0.2395 - val_accuracy: 0.9674

Epoch 00083: saving model to model/keypoint_classifier/keypoint_classifier.hdf5
Epoch 84/1000
29/29 [==============================] - 0s 3ms/step - loss: 0.5423 - accuracy: 0.7904 - val_loss: 0.2396 - val_accuracy: 0.9691

Epoch 00084: saving model to model/keypoint_classifier/keypoint_classifier.hdf5
Epoch 85/1000
29/29 [==============================] - 0s 4ms/step - loss: 0.5419 - accuracy: 0.7913 - val_loss: 0.2335 - val_accuracy: 0.9683

Epoch 00085: saving model to model/keypoint_classifier/keypoint_classifier.hdf5
Epoch 86/1000
29/29 [==============================] - 0s 3ms/step - loss: 0.5259 - accuracy: 0.8041 - val_loss: 0.2351 - val_accuracy: 0.9666

Epoch 00086: saving model to model/keypoint_classifier/keypoint_classifier.hdf5
Epoch 87/1000
29/29 [==============================] - 0s 3ms/step - loss: 0.5282 - accuracy: 0.7899 - val_loss: 0.2285 - val_accuracy: 0.9708

Epoch 00087: saving model to model/keypoint_classifier/keypoint_classifier.hdf5
Epoch 88/1000
29/29 [==============================] - 0s 3ms/step - loss: 0.5117 - accuracy: 0.7977 - val_loss: 0.2334 - val_accuracy: 0.9699

Epoch 00088: saving model to model/keypoint_classifier/keypoint_classifier.hdf5
Epoch 89/1000
29/29 [==============================] - 0s 3ms/step - loss: 0.5065 - accuracy: 0.8034 - val_loss: 0.2389 - val_accuracy: 0.9657

Epoch 00089: saving model to model/keypoint_classifier/keypoint_classifier.hdf5
Epoch 90/1000
29/29 [==============================] - 0s 4ms/step - loss: 0.5209 - accuracy: 0.7974 - val_loss: 0.2391 - val_accuracy: 0.9632

Epoch 00090: saving model to model/keypoint_classifier/keypoint_classifier.hdf5
Epoch 91/1000
29/29 [==============================] - 0s 3ms/step - loss: 0.5023 - accuracy: 0.8022 - val_loss: 0.2242 - val_accuracy: 0.9699

Epoch 00091: saving model to model/keypoint_classifier/keypoint_classifier.hdf5
Epoch 92/1000
29/29 [==============================] - 0s 4ms/step - loss: 0.5345 - accuracy: 0.7989 - val_loss: 0.2257 - val_accuracy: 0.9699

Epoch 00092: saving model to model/keypoint_classifier/keypoint_classifier.hdf5
Epoch 93/1000
29/29 [==============================] - 0s 4ms/step - loss: 0.5404 - accuracy: 0.7961 - val_loss: 0.2314 - val_accuracy: 0.9699

Epoch 00093: saving model to model/keypoint_classifier/keypoint_classifier.hdf5
Epoch 94/1000
29/29 [==============================] - 0s 4ms/step - loss: 0.5065 - accuracy: 0.8004 - val_loss: 0.2324 - val_accuracy: 0.9691

Epoch 00094: saving model to model/keypoint_classifier/keypoint_classifier.hdf5
Epoch 95/1000
29/29 [==============================] - 0s 4ms/step - loss: 0.5292 - accuracy: 0.8023 - val_loss: 0.2263 - val_accuracy: 0.9733

Epoch 00095: saving model to model/keypoint_classifier/keypoint_classifier.hdf5
Epoch 96/1000
29/29 [==============================] - 0s 4ms/step - loss: 0.5031 - accuracy: 0.8069 - val_loss: 0.2243 - val_accuracy: 0.9724

Epoch 00096: saving model to model/keypoint_classifier/keypoint_classifier.hdf5
Epoch 97/1000
29/29 [==============================] - 0s 4ms/step - loss: 0.4866 - accuracy: 0.8238 - val_loss: 0.2188 - val_accuracy: 0.9691

Epoch 00097: saving model to model/keypoint_classifier/keypoint_classifier.hdf5
Epoch 98/1000
29/29 [==============================] - 0s 4ms/step - loss: 0.5235 - accuracy: 0.8082 - val_loss: 0.2216 - val_accuracy: 0.9741

Epoch 00098: saving model to model/keypoint_classifier/keypoint_classifier.hdf5
Epoch 99/1000
29/29 [==============================] - 0s 4ms/step - loss: 0.5103 - accuracy: 0.8040 - val_loss: 0.2309 - val_accuracy: 0.9699

Epoch 00099: saving model to model/keypoint_classifier/keypoint_classifier.hdf5
Epoch 100/1000
29/29 [==============================] - 0s 4ms/step - loss: 0.4986 - accuracy: 0.8049 - val_loss: 0.2237 - val_accuracy: 0.9733

Epoch 00100: saving model to model/keypoint_classifier/keypoint_classifier.hdf5
Epoch 101/1000
29/29 [==============================] - 0s 4ms/step - loss: 0.4859 - accuracy: 0.8137 - val_loss: 0.2149 - val_accuracy: 0.9724

Epoch 00101: saving model to model/keypoint_classifier/keypoint_classifier.hdf5
Epoch 102/1000
29/29 [==============================] - 0s 3ms/step - loss: 0.5011 - accuracy: 0.8068 - val_loss: 0.2196 - val_accuracy: 0.9724

Epoch 00102: saving model to model/keypoint_classifier/keypoint_classifier.hdf5
Epoch 103/1000
29/29 [==============================] - 0s 3ms/step - loss: 0.4784 - accuracy: 0.8216 - val_loss: 0.2194 - val_accuracy: 0.9733

Epoch 00103: saving model to model/keypoint_classifier/keypoint_classifier.hdf5
Epoch 104/1000
29/29 [==============================] - 0s 3ms/step - loss: 0.4757 - accuracy: 0.8298 - val_loss: 0.2195 - val_accuracy: 0.9749

Epoch 00104: saving model to model/keypoint_classifier/keypoint_classifier.hdf5
Epoch 105/1000
29/29 [==============================] - 0s 6ms/step - loss: 0.5101 - accuracy: 0.7992 - val_loss: 0.2342 - val_accuracy: 0.9632

Epoch 00105: saving model to model/keypoint_classifier/keypoint_classifier.hdf5
Epoch 106/1000
29/29 [==============================] - 0s 3ms/step - loss: 0.4907 - accuracy: 0.8168 - val_loss: 0.2276 - val_accuracy: 0.9641

Epoch 00106: saving model to model/keypoint_classifier/keypoint_classifier.hdf5
Epoch 107/1000
29/29 [==============================] - 0s 3ms/step - loss: 0.5035 - accuracy: 0.8050 - val_loss: 0.2187 - val_accuracy: 0.9691

Epoch 00107: saving model to model/keypoint_classifier/keypoint_classifier.hdf5
Epoch 108/1000
29/29 [==============================] - 0s 4ms/step - loss: 0.5085 - accuracy: 0.7979 - val_loss: 0.2091 - val_accuracy: 0.9724

Epoch 00108: saving model to model/keypoint_classifier/keypoint_classifier.hdf5
Epoch 109/1000
29/29 [==============================] - 0s 3ms/step - loss: 0.4948 - accuracy: 0.8134 - val_loss: 0.2169 - val_accuracy: 0.9699

Epoch 00109: saving model to model/keypoint_classifier/keypoint_classifier.hdf5
Epoch 110/1000
29/29 [==============================] - 0s 3ms/step - loss: 0.4943 - accuracy: 0.8085 - val_loss: 0.2115 - val_accuracy: 0.9657

Epoch 00110: saving model to model/keypoint_classifier/keypoint_classifier.hdf5
Epoch 111/1000
29/29 [==============================] - 0s 3ms/step - loss: 0.5165 - accuracy: 0.8106 - val_loss: 0.2226 - val_accuracy: 0.9657

Epoch 00111: saving model to model/keypoint_classifier/keypoint_classifier.hdf5
Epoch 112/1000
29/29 [==============================] - 0s 4ms/step - loss: 0.4962 - accuracy: 0.8136 - val_loss: 0.2235 - val_accuracy: 0.9666

Epoch 00112: saving model to model/keypoint_classifier/keypoint_classifier.hdf5
Epoch 113/1000
29/29 [==============================] - 0s 3ms/step - loss: 0.5203 - accuracy: 0.8059 - val_loss: 0.2215 - val_accuracy: 0.9691

Epoch 00113: saving model to model/keypoint_classifier/keypoint_classifier.hdf5
Epoch 114/1000
29/29 [==============================] - 0s 4ms/step - loss: 0.5095 - accuracy: 0.8011 - val_loss: 0.2207 - val_accuracy: 0.9724

Epoch 00114: saving model to model/keypoint_classifier/keypoint_classifier.hdf5
Epoch 115/1000
29/29 [==============================] - 0s 3ms/step - loss: 0.4947 - accuracy: 0.8178 - val_loss: 0.2101 - val_accuracy: 0.9683

Epoch 00115: saving model to model/keypoint_classifier/keypoint_classifier.hdf5
Epoch 116/1000
29/29 [==============================] - 0s 3ms/step - loss: 0.5079 - accuracy: 0.8116 - val_loss: 0.2172 - val_accuracy: 0.9699

Epoch 00116: saving model to model/keypoint_classifier/keypoint_classifier.hdf5
Epoch 117/1000
29/29 [==============================] - 0s 4ms/step - loss: 0.5056 - accuracy: 0.8056 - val_loss: 0.2236 - val_accuracy: 0.9691

Epoch 00117: saving model to model/keypoint_classifier/keypoint_classifier.hdf5
Epoch 118/1000
29/29 [==============================] - 0s 4ms/step - loss: 0.5451 - accuracy: 0.7969 - val_loss: 0.2210 - val_accuracy: 0.9649

Epoch 00118: saving model to model/keypoint_classifier/keypoint_classifier.hdf5
Epoch 119/1000
29/29 [==============================] - 0s 4ms/step - loss: 0.5005 - accuracy: 0.8192 - val_loss: 0.2220 - val_accuracy: 0.9733

Epoch 00119: saving model to model/keypoint_classifier/keypoint_classifier.hdf5
Epoch 120/1000
29/29 [==============================] - 0s 4ms/step - loss: 0.5130 - accuracy: 0.8043 - val_loss: 0.2170 - val_accuracy: 0.9716

Epoch 00120: saving model to model/keypoint_classifier/keypoint_classifier.hdf5
Epoch 121/1000
29/29 [==============================] - 0s 4ms/step - loss: 0.4874 - accuracy: 0.8132 - val_loss: 0.2177 - val_accuracy: 0.9724

Epoch 00121: saving model to model/keypoint_classifier/keypoint_classifier.hdf5
Epoch 122/1000
29/29 [==============================] - 0s 4ms/step - loss: 0.4863 - accuracy: 0.8106 - val_loss: 0.2247 - val_accuracy: 0.9716

Epoch 00122: saving model to model/keypoint_classifier/keypoint_classifier.hdf5
Epoch 123/1000
29/29 [==============================] - 0s 4ms/step - loss: 0.4867 - accuracy: 0.8101 - val_loss: 0.2138 - val_accuracy: 0.9699

Epoch 00123: saving model to model/keypoint_classifier/keypoint_classifier.hdf5
Epoch 124/1000
29/29 [==============================] - 0s 4ms/step - loss: 0.4550 - accuracy: 0.8279 - val_loss: 0.2110 - val_accuracy: 0.9724

Epoch 00124: saving model to model/keypoint_classifier/keypoint_classifier.hdf5
Epoch 125/1000
29/29 [==============================] - 0s 4ms/step - loss: 0.4908 - accuracy: 0.8152 - val_loss: 0.2088 - val_accuracy: 0.9716

Epoch 00125: saving model to model/keypoint_classifier/keypoint_classifier.hdf5
Epoch 126/1000
29/29 [==============================] - 0s 3ms/step - loss: 0.5095 - accuracy: 0.8085 - val_loss: 0.2052 - val_accuracy: 0.9749

Epoch 00126: saving model to model/keypoint_classifier/keypoint_classifier.hdf5
Epoch 127/1000
29/29 [==============================] - 0s 3ms/step - loss: 0.4814 - accuracy: 0.8096 - val_loss: 0.2055 - val_accuracy: 0.9733

Epoch 00127: saving model to model/keypoint_classifier/keypoint_classifier.hdf5
Epoch 128/1000
29/29 [==============================] - 0s 3ms/step - loss: 0.4960 - accuracy: 0.8126 - val_loss: 0.2153 - val_accuracy: 0.9699

Epoch 00128: saving model to model/keypoint_classifier/keypoint_classifier.hdf5
Epoch 129/1000
29/29 [==============================] - 0s 3ms/step - loss: 0.4922 - accuracy: 0.8236 - val_loss: 0.2169 - val_accuracy: 0.9699

Epoch 00129: saving model to model/keypoint_classifier/keypoint_classifier.hdf5
Epoch 130/1000
29/29 [==============================] - 0s 4ms/step - loss: 0.4516 - accuracy: 0.8311 - val_loss: 0.2098 - val_accuracy: 0.9666

Epoch 00130: saving model to model/keypoint_classifier/keypoint_classifier.hdf5
Epoch 131/1000
29/29 [==============================] - 0s 3ms/step - loss: 0.4596 - accuracy: 0.8147 - val_loss: 0.2010 - val_accuracy: 0.9758

Epoch 00131: saving model to model/keypoint_classifier/keypoint_classifier.hdf5
Epoch 132/1000
29/29 [==============================] - 0s 4ms/step - loss: 0.4641 - accuracy: 0.8284 - val_loss: 0.1976 - val_accuracy: 0.9733

Epoch 00132: saving model to model/keypoint_classifier/keypoint_classifier.hdf5
Epoch 133/1000
29/29 [==============================] - 0s 4ms/step - loss: 0.4831 - accuracy: 0.8071 - val_loss: 0.2037 - val_accuracy: 0.9766

Epoch 00133: saving model to model/keypoint_classifier/keypoint_classifier.hdf5
Epoch 134/1000
29/29 [==============================] - 0s 3ms/step - loss: 0.4643 - accuracy: 0.8149 - val_loss: 0.2157 - val_accuracy: 0.9699

Epoch 00134: saving model to model/keypoint_classifier/keypoint_classifier.hdf5
Epoch 135/1000
29/29 [==============================] - 0s 3ms/step - loss: 0.4682 - accuracy: 0.8230 - val_loss: 0.2119 - val_accuracy: 0.9699

Epoch 00135: saving model to model/keypoint_classifier/keypoint_classifier.hdf5
Epoch 136/1000
29/29 [==============================] - 0s 4ms/step - loss: 0.4986 - accuracy: 0.8085 - val_loss: 0.2093 - val_accuracy: 0.9724

Epoch 00136: saving model to model/keypoint_classifier/keypoint_classifier.hdf5
Epoch 137/1000
29/29 [==============================] - 0s 3ms/step - loss: 0.4729 - accuracy: 0.8226 - val_loss: 0.1992 - val_accuracy: 0.9741

Epoch 00137: saving model to model/keypoint_classifier/keypoint_classifier.hdf5
Epoch 138/1000
29/29 [==============================] - 0s 3ms/step - loss: 0.5082 - accuracy: 0.8100 - val_loss: 0.2034 - val_accuracy: 0.9724

Epoch 00138: saving model to model/keypoint_classifier/keypoint_classifier.hdf5
Epoch 139/1000
29/29 [==============================] - 0s 4ms/step - loss: 0.4770 - accuracy: 0.8159 - val_loss: 0.2011 - val_accuracy: 0.9691

Epoch 00139: saving model to model/keypoint_classifier/keypoint_classifier.hdf5
Epoch 140/1000
29/29 [==============================] - 0s 3ms/step - loss: 0.4842 - accuracy: 0.8167 - val_loss: 0.2040 - val_accuracy: 0.9733

Epoch 00140: saving model to model/keypoint_classifier/keypoint_classifier.hdf5
Epoch 141/1000
29/29 [==============================] - 0s 4ms/step - loss: 0.4895 - accuracy: 0.8208 - val_loss: 0.2113 - val_accuracy: 0.9657

Epoch 00141: saving model to model/keypoint_classifier/keypoint_classifier.hdf5
Epoch 142/1000
29/29 [==============================] - 0s 3ms/step - loss: 0.4821 - accuracy: 0.8175 - val_loss: 0.2193 - val_accuracy: 0.9649

Epoch 00142: saving model to model/keypoint_classifier/keypoint_classifier.hdf5
Epoch 143/1000
29/29 [==============================] - 0s 3ms/step - loss: 0.4909 - accuracy: 0.8237 - val_loss: 0.2194 - val_accuracy: 0.9607

Epoch 00143: saving model to model/keypoint_classifier/keypoint_classifier.hdf5
Epoch 144/1000
29/29 [==============================] - 0s 3ms/step - loss: 0.4814 - accuracy: 0.8163 - val_loss: 0.2222 - val_accuracy: 0.9591

Epoch 00144: saving model to model/keypoint_classifier/keypoint_classifier.hdf5
Epoch 145/1000
29/29 [==============================] - 0s 3ms/step - loss: 0.4776 - accuracy: 0.8226 - val_loss: 0.2159 - val_accuracy: 0.9657

Epoch 00145: saving model to model/keypoint_classifier/keypoint_classifier.hdf5
Epoch 146/1000
29/29 [==============================] - 0s 3ms/step - loss: 0.4810 - accuracy: 0.8290 - val_loss: 0.2111 - val_accuracy: 0.9632

Epoch 00146: saving model to model/keypoint_classifier/keypoint_classifier.hdf5
Epoch 147/1000
29/29 [==============================] - 0s 3ms/step - loss: 0.4892 - accuracy: 0.8163 - val_loss: 0.2065 - val_accuracy: 0.9666

Epoch 00147: saving model to model/keypoint_classifier/keypoint_classifier.hdf5
Epoch 148/1000
29/29 [==============================] - 0s 3ms/step - loss: 0.4642 - accuracy: 0.8298 - val_loss: 0.2058 - val_accuracy: 0.9716

Epoch 00148: saving model to model/keypoint_classifier/keypoint_classifier.hdf5
Epoch 149/1000
29/29 [==============================] - 0s 7ms/step - loss: 0.4666 - accuracy: 0.8255 - val_loss: 0.2084 - val_accuracy: 0.9733

Epoch 00149: saving model to model/keypoint_classifier/keypoint_classifier.hdf5
Epoch 150/1000
29/29 [==============================] - 0s 3ms/step - loss: 0.4687 - accuracy: 0.8264 - val_loss: 0.1983 - val_accuracy: 0.9749

Epoch 00150: saving model to model/keypoint_classifier/keypoint_classifier.hdf5
Epoch 151/1000
29/29 [==============================] - 0s 4ms/step - loss: 0.4801 - accuracy: 0.8201 - val_loss: 0.2018 - val_accuracy: 0.9724

Epoch 00151: saving model to model/keypoint_classifier/keypoint_classifier.hdf5
Epoch 152/1000
29/29 [==============================] - 0s 3ms/step - loss: 0.4387 - accuracy: 0.8379 - val_loss: 0.2064 - val_accuracy: 0.9724

Epoch 00152: saving model to model/keypoint_classifier/keypoint_classifier.hdf5
Epoch 00152: early stopping
<tensorflow.python.keras.callbacks.History at 0x7f92ce96a240>
# Model evaluation
val_loss, val_acc = model.evaluate(X_test, y_test, batch_size=128)
10/10 [==============================] - 0s 2ms/step - loss: 0.2064 - accuracy: 0.9724
# Loading the saved model
model = tf.keras.models.load_model(model_save_path)
# Inference test
predict_result = model.predict(np.array([X_test[0]]))
print(np.squeeze(predict_result))
print(np.argmax(np.squeeze(predict_result)))
[9.8105639e-01 1.8674158e-02 2.2328236e-04 4.6191799e-05]
0
Confusion matrix
import pandas as pd
import seaborn as sns
import matplotlib.pyplot as plt
from sklearn.metrics import confusion_matrix, classification_report

def print_confusion_matrix(y_true, y_pred, report=True):
    labels = sorted(list(set(y_true)))
    cmx_data = confusion_matrix(y_true, y_pred, labels=labels)
    
    df_cmx = pd.DataFrame(cmx_data, index=labels, columns=labels)
 
    fig, ax = plt.subplots(figsize=(7, 6))
    sns.heatmap(df_cmx, annot=True, fmt='g' ,square=False)
    ax.set_ylim(len(set(y_true)), 0)
    plt.show()
    
    if report:
        print('Classification Report')
        print(classification_report(y_test, y_pred))

Y_pred = model.predict(X_test)
y_pred = np.argmax(Y_pred, axis=1)

print_confusion_matrix(y_test, y_pred)

Classification Report
              precision    recall  f1-score   support

           0       0.99      1.00      0.99       402
           1       0.98      0.94      0.96       366
           2       0.94      0.98      0.96       343
           3       1.00      0.99      0.99        86

    accuracy                           0.97      1197
   macro avg       0.98      0.98      0.98      1197
weighted avg       0.97      0.97      0.97      1197

Convert to model for Tensorflow-Lite
# Save as a model dedicated to inference
model.save(model_save_path, include_optimizer=False)
# Transform model (quantization)

converter = tf.lite.TFLiteConverter.from_keras_model(model)
converter.optimizations = [tf.lite.Optimize.DEFAULT]
tflite_quantized_model = converter.convert()

open(tflite_save_path, 'wb').write(tflite_quantized_model)
INFO:tensorflow:Assets written to: /tmp/tmpe5yx255p/assets
6352
Inference test
interpreter = tf.lite.Interpreter(model_path=tflite_save_path)
interpreter.allocate_tensors()
# Get I / O tensor
input_details = interpreter.get_input_details()
output_details = interpreter.get_output_details()
interpreter.set_tensor(input_details[0]['index'], np.array([X_test[0]]))
%%time
# Inference implementation
interpreter.invoke()
tflite_results = interpreter.get_tensor(output_details[0]['index'])
CPU times: user 131 µs, sys: 17 µs, total: 148 µs
Wall time: 679 µs
print(np.squeeze(tflite_results))
print(np.argmax(np.squeeze(tflite_results)))
[9.8105639e-01 1.8674169e-02 2.2328216e-04 4.6191799e-05]
0
